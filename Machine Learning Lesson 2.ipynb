{
 "cells": [
  {
   "cell_type": "markdown",
   "metadata": {},
   "source": [
    "# Naive Bayes"
   ]
  },
  {
   "cell_type": "code",
   "execution_count": null,
   "metadata": {
    "collapsed": true
   },
   "outputs": [],
   "source": [
    "from sklearn.naive_bayes import GaussianNB\n",
    "import numpy as np\n",
    "from prep_terrain_data import makeTerrainData\n"
   ]
  },
  {
   "cell_type": "code",
   "execution_count": null,
   "metadata": {
    "collapsed": true
   },
   "outputs": [],
   "source": [
    "\n",
    "X = np.array([[-1, -1], [-2, -1], [-3, -2], [1, 1], [2, 1], [3, 2]])\n",
    "Y = np.array([1, 1, 1, 2, 2, 2])\n",
    "\n"
   ]
  },
  {
   "cell_type": "code",
   "execution_count": null,
   "metadata": {
    "collapsed": true,
    "scrolled": true
   },
   "outputs": [],
   "source": [
    "clf = GaussianNB()\n",
    "clf.fit(X, Y)\n",
    "GaussianNB(priors=None)\n",
    "print(clf.predict([[-0.8, -1]]))"
   ]
  },
  {
   "cell_type": "code",
   "execution_count": null,
   "metadata": {
    "collapsed": true
   },
   "outputs": [],
   "source": [
    "from prep_terrain_data import makeTerrainData\n",
    "from class_vis import prettyPicture, output_image\n",
    "import numpy as np\n",
    "import pylab as pl"
   ]
  },
  {
   "cell_type": "code",
   "execution_count": null,
   "metadata": {
    "collapsed": true
   },
   "outputs": [],
   "source": [
    "def classify(features_train, labels_train):   \n",
    "    ### import the sklearn module for GaussianNB\n",
    "    ### create classifier\n",
    "    ### fit the classifier on the training features and labels\n",
    "    ### return the fit classifier\n",
    "    clf = GaussianNB()\n",
    "    return clf.fit(features_train,labels_train)\n",
    "    \n",
    "    \n",
    "    \n",
    "    ### your code goes here!"
   ]
  },
  {
   "cell_type": "code",
   "execution_count": null,
   "metadata": {
    "collapsed": true
   },
   "outputs": [],
   "source": [
    "features_train, labels_train, features_test, labels_test = makeTerrainData()\n",
    "\n",
    "### the training data (features_train, labels_train) have both \"fast\" and \"slow\" points mixed\n",
    "### in together--separate them so we can give them different colors in the scatterplot,\n",
    "### and visually identify them\n",
    "grade_fast = [features_train[ii][0] for ii in range(0, len(features_train)) if labels_train[ii]==0]\n",
    "bumpy_fast = [features_train[ii][1] for ii in range(0, len(features_train)) if labels_train[ii]==0]\n",
    "grade_slow = [features_train[ii][0] for ii in range(0, len(features_train)) if labels_train[ii]==1]\n",
    "bumpy_slow = [features_train[ii][1] for ii in range(0, len(features_train)) if labels_train[ii]==1]\n",
    "\n",
    "\n",
    "# You will need to complete this function imported from the ClassifyNB script.\n",
    "# Be sure to change to that code tab to complete this quiz.\n",
    "clf = classify(features_train, labels_train)\n",
    "\n",
    "\n",
    "\n",
    "### draw the decision boundary with the text points overlaid\n",
    "prettyPicture(clf, features_test, labels_test)\n",
    "output_image(\"test.png\", \"png\", open(\"test.png\", \"rb\").read())"
   ]
  },
  {
   "cell_type": "code",
   "execution_count": null,
   "metadata": {
    "collapsed": true
   },
   "outputs": [],
   "source": [
    "def NBAccuracy(features_train, labels_train, features_test, labels_test):\n",
    "    \"\"\" compute the accuracy of your Naive Bayes classifier \"\"\"\n",
    "    ### import the sklearn module for GaussianNB\n",
    "    from sklearn.naive_bayes import GaussianNB\n",
    "\n",
    "    ### create classifier\n",
    "    clf = GaussianNB()\n",
    "    \n",
    "    \n",
    "\n",
    "\n",
    "    ### fit the classifier on the training features and labels\n",
    "    clf.fit(features_train,labels_train)\n",
    "\n",
    "    ### use the trained classifier to predict labels for the test features\n",
    "    pred = clf.predict(features_test)\n",
    "\n",
    "\n",
    "    ### calculate and return the accuracy on the test data\n",
    "    ### this is slightly different than the example, \n",
    "    ### where we just print the accuracy\n",
    "    ### you might need to import an sklearn module\n",
    "    accuracy = clf.score(features_test, labels_test)\n",
    "    print accuracy\n",
    "    return accuracy"
   ]
  },
  {
   "cell_type": "code",
   "execution_count": null,
   "metadata": {
    "collapsed": true
   },
   "outputs": [],
   "source": [
    "#!/usr/bin/python\n",
    "\n",
    "print\n",
    "print \"checking for nltk\"\n",
    "try:\n",
    "    import nltk\n",
    "except ImportError:\n",
    "    print \"you should install nltk before continuing\"\n",
    "\n",
    "print \"checking for numpy\"\n",
    "try:\n",
    "    import numpy\n",
    "except ImportError:\n",
    "    print \"you should install numpy before continuing\"\n",
    "\n",
    "print \"checking for scipy\"\n",
    "try:\n",
    "    import scipy\n",
    "except:\n",
    "    print \"you should install scipy before continuing\"\n",
    "\n",
    "print \"checking for sklearn\"\n",
    "try:\n",
    "    import sklearn\n",
    "except:\n",
    "    print \"you should install sklearn before continuing\"\n"
   ]
  },
  {
   "cell_type": "code",
   "execution_count": null,
   "metadata": {
    "collapsed": true,
    "scrolled": true
   },
   "outputs": [],
   "source": [
    "\n",
    "print\n",
    "print \"downloading the Enron dataset (this may take a while)\"\n",
    "print \"to check on progress, you can cd up one level, then execute <ls -lthr>\"\n",
    "print \"Enron dataset should be last item on the list, along with its current size\"\n",
    "print \"download will complete at about 423 MB\"\n",
    "import urllib\n",
    "url = \"https://www.cs.cmu.edu/~./enron/enron_mail_20150507.tar.gz\"\n",
    "urllib.urlretrieve(url, filename=\"../enron_mail_20150507.tar.gz\") \n",
    "print \"download complete!\"\n",
    "\n",
    "\n",
    "print\n",
    "print \"unzipping Enron dataset (this may take a while)\"\n",
    "import tarfile\n",
    "import os\n",
    "os.chdir(\"..\")\n",
    "tfile = tarfile.open(\"enron_mail_20150507.tar.gz\", \"r:gz\")\n",
    "tfile.extractall(\".\")\n",
    "\n",
    "print \"you're ready to go!\"\n"
   ]
  },
  {
   "cell_type": "code",
   "execution_count": null,
   "metadata": {
    "collapsed": true,
    "scrolled": true
   },
   "outputs": [],
   "source": [
    "#!/usr/bin/python\n",
    "\n",
    "\"\"\" \n",
    "    This is the code to accompany the Lesson 1 (Naive Bayes) mini-project. \n",
    "\n",
    "    Use a Naive Bayes Classifier to identify emails by their authors\n",
    "    \n",
    "    authors and labels:\n",
    "    Sara has label 0\n",
    "    Chris has label 1\n",
    "\"\"\"\n",
    "from sklearn.naive_bayes import GaussianNB\n",
    "import numpy as np\n",
    "import sys\n",
    "from time import time\n",
    "#sys.path.append(\"../tools/\")\n",
    "from email_preprocess import preprocess\n",
    "\n",
    "\n",
    "### features_train and features_test are the features for the training\n",
    "### and testing datasets, respectively\n",
    "### labels_train and labels_test are the corresponding item labels\n",
    "features_train, features_test, labels_train, labels_test = preprocess()\n",
    "\n",
    "\n",
    "\n",
    "#########################################################\n",
    "### your code goes here ###\n",
    "\n",
    "clf = GaussianNB()\n",
    "\n",
    "t0 = time()\n",
    "## fit the classifier on the training features and labels\n",
    "clf.fit(features_train,labels_train)\n",
    "print \"training time:\", round(time()-t0, 3), \"s\"\n",
    "### use the trained classifier to predict labels for the test features\n",
    "\n",
    "t0 = time()\n",
    "pred = clf.predict(features_test)\n",
    "print \"training time:\", round(time()-t0, 3), \"s\"\n",
    "\n",
    "### calculate and return the accuracy on the test data\n",
    "accuracy = clf.score(features_test, labels_test)\n",
    "print accuracy\n",
    "#########################################################\n",
    "\n",
    "\n"
   ]
  },
  {
   "cell_type": "markdown",
   "metadata": {
    "collapsed": true
   },
   "source": [
    "# SVM - Support Vector Machines"
   ]
  },
  {
   "cell_type": "code",
   "execution_count": null,
   "metadata": {
    "collapsed": true,
    "scrolled": true
   },
   "outputs": [],
   "source": [
    "import sys\n",
    "from class_vis import prettyPicture\n",
    "from prep_terrain_data import makeTerrainData\n",
    "\n",
    "import matplotlib.pyplot as plt\n",
    "import copy\n",
    "import numpy as np\n",
    "import pylab as pl\n",
    "\n",
    "\n",
    "features_train, labels_train, features_test, labels_test = makeTerrainData()\n",
    "\n",
    "\n",
    "########################## SVM #################################\n",
    "### we handle the import statement and SVC creation for you here\n",
    "from sklearn.svm import SVC\n",
    "clf = SVC(kernel=\"rbf\", gamma=1.0, C = 1000000)\n",
    "\n",
    "clf.fit(features_train,labels_train)\n",
    "\n",
    "pred = clf.predict(features_test)\n",
    "\n",
    "prettyPicture(clf, features_test, labels_test)\n",
    "output_image(\"test.png\", \"png\", open(\"test.png\", \"rb\").read())\n",
    "\n",
    "accuracy = clf.score(features_test, labels_test)\n",
    "print accuracy\n",
    "\n",
    "#### now your job is to fit the classifier\n",
    "#### using the training features/labels, and to\n",
    "#### make a set of predictions on the test data\n",
    "\n",
    "\n",
    "\n",
    "#### store your predictions in a list named pred\n",
    "\n"
   ]
  },
  {
   "cell_type": "code",
   "execution_count": null,
   "metadata": {
    "collapsed": true
   },
   "outputs": [],
   "source": [
    "\"\"\" \n",
    "    This is the code to accompany the Lesson 2 (SVM) mini-project.\n",
    "    Use a SVM to identify emails from the Enron corpus by their authors:    \n",
    "    Sara has label 0\n",
    "    Chris has label 1\n",
    "\"\"\"\n",
    "    \n",
    "import sys\n",
    "from time import time\n",
    "from email_preprocess import preprocess\n",
    "\n",
    "\n",
    "### features_train and features_test are the features for the training\n",
    "### and testing datasets, respectively\n",
    "### labels_train and labels_test are the corresponding item labels\n",
    "features_train, features_test, labels_train, labels_test = preprocess()\n",
    "\n",
    "from sklearn.svm import SVC\n",
    "clf = SVC(kernel=\"linear\")\n",
    "#clf = SVC(kernel=\"linear\", gamma=1.0, C = 1000000)\n",
    "\n",
    "t0 = time()\n",
    "clf.fit(features_train,labels_train)\n",
    "print \"training time:\", round(time()-t0, 3), \"s\"\n",
    "\n",
    "t0 = time()\n",
    "pred = clf.predict(features_test)\n",
    "print \"training time:\", round(time()-t0, 3), \"s\"\n",
    "\n",
    "accuracy = clf.score(features_test, labels_test)\n",
    "print accuracy\n",
    "\n",
    "\n",
    "#########################################################\n",
    "### your code goes here ###\n",
    "\n",
    "#########################################################\n"
   ]
  },
  {
   "cell_type": "code",
   "execution_count": null,
   "metadata": {
    "collapsed": true
   },
   "outputs": [],
   "source": [
    "\"\"\" \n",
    "    This is the code to accompany the Lesson 2 (SVM) mini-project.\n",
    "    Use a SVM to identify emails from the Enron corpus by their authors:    \n",
    "    Sara has label 0\n",
    "    Chris has label 1\n",
    "\"\"\"\n",
    "    \n",
    "import sys\n",
    "from time import time\n",
    "from email_preprocess import preprocess\n",
    "\n",
    "\n",
    "### features_train and features_test are the features for the training\n",
    "### and testing datasets, respectively\n",
    "### labels_train and labels_test are the corresponding item labels\n",
    "features_train, features_test, labels_train, labels_test = preprocess()\n",
    "\n",
    "from sklearn.svm import SVC\n",
    "clf = SVC(kernel=\"linear\")\n",
    "#clf = SVC(kernel=\"linear\", gamma=1.0, C = 1000000)\n",
    "\n",
    "features_train = features_train[:len(features_train)/100] \n",
    "labels_train = labels_train[:len(labels_train)/100] \n",
    "\n",
    "t0 = time()\n",
    "clf.fit(features_train,labels_train)\n",
    "print \"training time:\", round(time()-t0, 3), \"s\"\n",
    "\n",
    "t0 = time()\n",
    "pred = clf.predict(features_test)\n",
    "print \"training time:\", round(time()-t0, 3), \"s\"\n",
    "\n",
    "accuracy = clf.score(features_test, labels_test)\n",
    "print accuracy\n",
    "\n",
    "\n",
    "#########################################################\n",
    "### your code goes here ###\n",
    "\n",
    "#########################################################\n"
   ]
  },
  {
   "cell_type": "code",
   "execution_count": null,
   "metadata": {
    "collapsed": true
   },
   "outputs": [],
   "source": [
    "\"\"\" \n",
    "    This is the code to accompany the Lesson 2 (SVM) mini-project.\n",
    "    Use a SVM to identify emails from the Enron corpus by their authors:    \n",
    "    Sara has label 0\n",
    "    Chris has label 1\n",
    "\"\"\"\n",
    "    \n",
    "import sys\n",
    "from time import time\n",
    "from email_preprocess import preprocess\n",
    "\n",
    "\n",
    "### features_train and features_test are the features for the training\n",
    "### and testing datasets, respectively\n",
    "### labels_train and labels_test are the corresponding item labels\n",
    "features_train, features_test, labels_train, labels_test = preprocess()\n",
    "\n",
    "from sklearn.svm import SVC\n",
    "#clf = SVC(kernel=\"rbf\")\n",
    "clf = SVC(kernel=\"rbf\",  C = 10000)\n",
    "\n",
    "#features_train = features_train[:len(features_train)/100] \n",
    "#labels_train = labels_train[:len(labels_train)/100] \n",
    "\n",
    "t0 = time()\n",
    "clf.fit(features_train,labels_train)\n",
    "print \"training time:\", round(time()-t0, 3), \"s\"\n",
    "\n",
    "t0 = time()\n",
    "pred = clf.predict(features_test)\n",
    "print \"training time:\", round(time()-t0, 3), \"s\"\n",
    "\n",
    "\n",
    "\n",
    "\n",
    "accuracy = clf.score(features_test, labels_test)\n",
    "print accuracy\n",
    "\n",
    "print pred[10]\n",
    "print pred[26]\n",
    "print pred[50]\n",
    "\n",
    "\n",
    "#########################################################\n",
    "### your code goes here ###\n",
    "\n",
    "#########################################################\n"
   ]
  },
  {
   "cell_type": "code",
   "execution_count": null,
   "metadata": {
    "collapsed": true
   },
   "outputs": [],
   "source": [
    "import collections\n",
    "collections.Counter(pred)"
   ]
  },
  {
   "cell_type": "markdown",
   "metadata": {},
   "source": [
    "# Decision Trees"
   ]
  },
  {
   "cell_type": "code",
   "execution_count": null,
   "metadata": {
    "collapsed": true
   },
   "outputs": [],
   "source": [
    "def classify(features_train, labels_train):\n",
    "    \n",
    "    ### your code goes here--should return a trained decision tree classifer\n",
    "    from sklearn import tree\n",
    "    clf = tree.DecisionTreeClassifier(min_samples_split = 50)\n",
    "    clf = clf.fit(features_train, labels_train)\n",
    "    return clf"
   ]
  },
  {
   "cell_type": "code",
   "execution_count": null,
   "metadata": {
    "collapsed": true
   },
   "outputs": [],
   "source": [
    "#!/usr/bin/python\n",
    "\n",
    "\"\"\" lecture and example code for decision tree unit \"\"\"\n",
    "\n",
    "import sys\n",
    "from class_vis import prettyPicture, output_image\n",
    "from prep_terrain_data import makeTerrainData\n",
    "\n",
    "import matplotlib.pyplot as plt\n",
    "import numpy as np\n",
    "import pylab as pl\n",
    "\n",
    "features_train, labels_train, features_test, labels_test = makeTerrainData()\n",
    "\n",
    "\n",
    "\n",
    "### the classify() function in classifyDT is where the magic\n",
    "### happens--fill in this function in the file 'classifyDT.py'!\n",
    "clf = classify(features_train, labels_train)\n",
    "\n",
    "\n",
    "\n",
    "#### grader code, do not modify below this line\n",
    "\n",
    "prettyPicture(clf, features_test, labels_test)\n",
    "output_image(\"test.png\", \"png\", open(\"test.png\", \"rb\").read())\n"
   ]
  },
  {
   "cell_type": "code",
   "execution_count": null,
   "metadata": {
    "collapsed": true
   },
   "outputs": [],
   "source": [
    "accuracy = clf.score(features_test, labels_test)\n",
    "print accuracy"
   ]
  },
  {
   "cell_type": "code",
   "execution_count": null,
   "metadata": {
    "collapsed": true
   },
   "outputs": [],
   "source": [
    "import scipy.stats\n",
    "print scipy.stats.entropy([2,1],base=2)"
   ]
  },
  {
   "cell_type": "code",
   "execution_count": null,
   "metadata": {
    "collapsed": true
   },
   "outputs": [],
   "source": [
    "import math\n",
    "-.5*math.log(.5,2) -.5*math.log(.5,2)"
   ]
  },
  {
   "cell_type": "code",
   "execution_count": 1,
   "metadata": {},
   "outputs": [
    {
     "name": "stderr",
     "output_type": "stream",
     "text": [
      "C:\\Users\\nmeli\\Documents\\Udacity\\Data Analysis\\Anacondas\\lib\\site-packages\\sklearn\\cross_validation.py:41: DeprecationWarning: This module was deprecated in version 0.18 in favor of the model_selection module into which all the refactored classes and functions are moved. Also note that the interface of the new CV iterators are different from that of this module. This module will be removed in 0.20.\n",
      "  \"This module will be removed in 0.20.\", DeprecationWarning)\n"
     ]
    }
   ],
   "source": [
    "import pickle\n",
    "import cPickle\n",
    "import numpy\n",
    "\n",
    "from sklearn import cross_validation\n",
    "from sklearn.feature_extraction.text import TfidfVectorizer\n",
    "from sklearn.feature_selection import SelectPercentile, f_classif\n",
    "\n",
    "\n",
    "\n",
    "def preprocess(words_file = \"word_data.pkl\", authors_file=\"email_authors.pkl\"):\n",
    "    \"\"\" \n",
    "        this function takes a pre-made list of email texts (by default word_data.pkl)\n",
    "        and the corresponding authors (by default email_authors.pkl) and performs\n",
    "        a number of preprocessing steps:\n",
    "            -- splits into training/testing sets (10% testing)\n",
    "            -- vectorizes into tfidf matrix\n",
    "            -- selects/keeps most helpful features\n",
    "\n",
    "        after this, the feaures and labels are put into numpy arrays, which play nice with sklearn functions\n",
    "\n",
    "        4 objects are returned:\n",
    "            -- training/testing features\n",
    "            -- training/testing labels\n",
    "\n",
    "    \"\"\"\n",
    "\n",
    "    ### the words (features) and authors (labels), already largely preprocessed\n",
    "    ### this preprocessing will be repeated in the text learning mini-project\n",
    "    authors_file_handler = open(authors_file, \"r\")\n",
    "    authors = pickle.load(authors_file_handler)\n",
    "    authors_file_handler.close()\n",
    "\n",
    "    words_file_handler = open(words_file, \"r\")\n",
    "    word_data = cPickle.load(words_file_handler)\n",
    "    words_file_handler.close()\n",
    "\n",
    "    ### test_size is the percentage of events assigned to the test set\n",
    "    ### (remainder go into training)\n",
    "    features_train, features_test, labels_train, labels_test = cross_validation.train_test_split(word_data, authors, test_size=0.1, random_state=42)\n",
    "\n",
    "\n",
    "\n",
    "    ### text vectorization--go from strings to lists of numbers\n",
    "    vectorizer = TfidfVectorizer(sublinear_tf=True, max_df=0.5,\n",
    "                                 stop_words='english')\n",
    "    features_train_transformed = vectorizer.fit_transform(features_train)\n",
    "    features_test_transformed  = vectorizer.transform(features_test)\n",
    "\n",
    "\n",
    "\n",
    "    ### feature selection, because text is super high dimensional and \n",
    "    ### can be really computationally chewy as a result\n",
    "    selector = SelectPercentile(f_classif, percentile=10)\n",
    "    selector.fit(features_train_transformed, labels_train)\n",
    "    features_train_transformed = selector.transform(features_train_transformed).toarray()\n",
    "    features_test_transformed  = selector.transform(features_test_transformed).toarray()\n",
    "\n",
    "    ### info on the data\n",
    "    print \"no. of Chris training emails:\", sum(labels_train)\n",
    "    print \"no. of Sara training emails:\", len(labels_train)-sum(labels_train)\n",
    "    \n",
    "    return features_train_transformed, features_test_transformed, labels_train, labels_test"
   ]
  },
  {
   "cell_type": "code",
   "execution_count": null,
   "metadata": {
    "collapsed": true
   },
   "outputs": [],
   "source": [
    "\"\"\" \n",
    "    This is the code to accompany the Lesson 3 (decision tree) mini-project.\n",
    "    Use a Decision Tree to identify emails from the Enron corpus by author:    \n",
    "    Sara has label 0\n",
    "    Chris has label 1\n",
    "\"\"\"\n",
    "    \n",
    "import sys\n",
    "from time import time\n",
    "#sys.path.append(\"../tools/\")\n",
    "#from email_preprocess import preprocess\n",
    "\n",
    "\n",
    "### features_train and features_test are the features for the training\n",
    "### and testing datasets, respectively\n",
    "### labels_train and labels_test are the corresponding item labels\n",
    "features_train, features_test, labels_train, labels_test = preprocess()\n",
    "\n",
    "\n",
    "\n",
    "\n",
    "#########################################################\n",
    "### your code goes here ###\n",
    "from sklearn import tree\n",
    "clf = tree.DecisionTreeClassifier(min_samples_split = 40)\n",
    "\n",
    "t0 = time()\n",
    "clf = clf.fit(features_train, labels_train)\n",
    "print \"training time:\", round(time()-t0, 3), \"s\"\n",
    "\n",
    "\n",
    "t0 = time()\n",
    "pred = clf.predict(features_test)\n",
    "print \"training time:\", round(time()-t0, 3), \"s\"\n",
    "\n",
    "\n",
    "accuracy = clf.score(features_test, labels_test)\n",
    "print accuracy\n",
    "\n",
    "\n",
    "len(features_train[0])\n",
    "\n",
    "#########################################################\n",
    "\n"
   ]
  },
  {
   "cell_type": "code",
   "execution_count": null,
   "metadata": {
    "collapsed": true
   },
   "outputs": [],
   "source": [
    "from email_preprocess import preprocess\n",
    "len(features_train[0])"
   ]
  },
  {
   "cell_type": "code",
   "execution_count": null,
   "metadata": {
    "collapsed": true
   },
   "outputs": [],
   "source": [
    "len(features_train[1])"
   ]
  },
  {
   "cell_type": "markdown",
   "metadata": {
    "collapsed": true
   },
   "source": [
    "# Random Forrest"
   ]
  },
  {
   "cell_type": "code",
   "execution_count": 3,
   "metadata": {},
   "outputs": [
    {
     "name": "stdout",
     "output_type": "stream",
     "text": [
      "no. of Chris training emails: 7936\n",
      "no. of Sara training emails: 7884\n",
      "training time: 4.481 s\n",
      "training time: 0.043 s\n",
      "0.994880546075\n"
     ]
    }
   ],
   "source": [
    "\"\"\" \n",
    "    This is the code to accompany the Lesson 3 (decision tree) mini-project.\n",
    "    Use a Decision Tree to identify emails from the Enron corpus by author:    \n",
    "    Sara has label 0\n",
    "    Chris has label 1\n",
    "\"\"\"\n",
    "    \n",
    "import sys\n",
    "from time import time\n",
    "#sys.path.append(\"../tools/\")\n",
    "#from email_preprocess import preprocess\n",
    "\n",
    "\n",
    "### features_train and features_test are the features for the training\n",
    "### and testing datasets, respectively\n",
    "### labels_train and labels_test are the corresponding item labels\n",
    "features_train, features_test, labels_train, labels_test = preprocess()\n",
    "\n",
    "\n",
    "\n",
    "\n",
    "#########################################################\n",
    "### your code goes here ###\n",
    "from sklearn.ensemble import RandomForestClassifier\n",
    "clf = RandomForestClassifier()\n",
    "\n",
    "t0 = time()\n",
    "clf = clf.fit(features_train, labels_train)\n",
    "print \"training time:\", round(time()-t0, 3), \"s\"\n",
    "\n",
    "\n",
    "t0 = time()\n",
    "pred = clf.predict(features_test)\n",
    "print \"training time:\", round(time()-t0, 3), \"s\"\n",
    "\n",
    "\n",
    "accuracy = clf.score(features_test, labels_test)\n",
    "print accuracy\n",
    "\n",
    "\n"
   ]
  },
  {
   "cell_type": "code",
   "execution_count": 23,
   "metadata": {},
   "outputs": [
    {
     "name": "stdout",
     "output_type": "stream",
     "text": [
      "training time: 2.776 s\n",
      "training time: 0.068 s\n",
      "0.928\n",
      "BEGIN_IMAGE_f9825uweof8jw9fj4r8{\"bytes\": \"iVBORw0KGgoAAAANSUhEUgAAAoAAAAHgCAYAAAA10dzkAAAABHNCSVQICAgIfAhkiAAAAAlwSFlz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\\n\", \"name\": \"test.png\", \"format\": \"png\"}END_IMAGE_0238jfw08fjsiufhw8frs\n"
     ]
    }
   ],
   "source": [
    "#!/usr/bin/python\n",
    "\n",
    "\"\"\" lecture and example code for decision tree unit \"\"\"\n",
    "\n",
    "import sys\n",
    "from class_vis import prettyPicture, output_image\n",
    "from prep_terrain_data import makeTerrainData\n",
    "\n",
    "import matplotlib.pyplot as plt\n",
    "import numpy as np\n",
    "import pylab as pl\n",
    "\n",
    "features_train, labels_train, features_test, labels_test = makeTerrainData()\n",
    "\n",
    "clf = RandomForestClassifier(min_samples_split = 100,n_estimators=1000,max_features = 2)\n",
    "\n",
    "### the classify() function in classifyDT is where the magic\n",
    "### happens--fill in this function in the file 'classifyDT.py'!\n",
    "t0 = time()\n",
    "clf = clf.fit(features_train, labels_train)\n",
    "print \"training time:\", round(time()-t0, 3), \"s\"\n",
    "\n",
    "\n",
    "t0 = time()\n",
    "pred = clf.predict(features_test)\n",
    "print \"training time:\", round(time()-t0, 3), \"s\"\n",
    "\n",
    "\n",
    "accuracy = clf.score(features_test, labels_test)\n",
    "print accuracy\n",
    "\n",
    "\n",
    "#### grader code, do not modify below this line\n",
    "\n",
    "prettyPicture(clf, features_test, labels_test)\n",
    "output_image(\"test.png\", \"png\", open(\"test.png\", \"rb\").read())"
   ]
  },
  {
   "cell_type": "code",
   "execution_count": null,
   "metadata": {
    "collapsed": true
   },
   "outputs": [],
   "source": []
  }
 ],
 "metadata": {
  "kernelspec": {
   "display_name": "Python 2",
   "language": "python",
   "name": "python2"
  },
  "language_info": {
   "codemirror_mode": {
    "name": "ipython",
    "version": 2
   },
   "file_extension": ".py",
   "mimetype": "text/x-python",
   "name": "python",
   "nbconvert_exporter": "python",
   "pygments_lexer": "ipython2",
   "version": "2.7.13"
  }
 },
 "nbformat": 4,
 "nbformat_minor": 2
}
