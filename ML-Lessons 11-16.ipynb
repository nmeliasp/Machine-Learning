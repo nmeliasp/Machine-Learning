{
 "cells": [
  {
   "cell_type": "markdown",
   "metadata": {},
   "source": [
    "# Text Learning\n",
    "- Not all words are Equal\n",
    "- Some words contain more information than others\n",
    "\n",
    "### Stopwords\n",
    "- low information word that occurs very frequently(ex: and, I , for, you, will, have , be)"
   ]
  },
  {
   "cell_type": "code",
   "execution_count": 5,
   "metadata": {
    "scrolled": true
   },
   "outputs": [
    {
     "name": "stdout",
     "output_type": "stream",
     "text": [
      "[nltk_data] Downloading collection u'all'\n",
      "[nltk_data]    | \n",
      "[nltk_data]    | Downloading package abc to\n",
      "[nltk_data]    |     C:\\Users\\nmeli\\Documents\\Udacity\\Data\n",
      "[nltk_data]    |     Analysis\\Anacondas\\nltk_data...\n",
      "[nltk_data]    |   Unzipping corpora\\abc.zip.\n",
      "[nltk_data]    | Downloading package alpino to\n",
      "[nltk_data]    |     C:\\Users\\nmeli\\Documents\\Udacity\\Data\n",
      "[nltk_data]    |     Analysis\\Anacondas\\nltk_data...\n",
      "[nltk_data]    |   Unzipping corpora\\alpino.zip.\n",
      "[nltk_data]    | Downloading package biocreative_ppi to\n",
      "[nltk_data]    |     C:\\Users\\nmeli\\Documents\\Udacity\\Data\n",
      "[nltk_data]    |     Analysis\\Anacondas\\nltk_data...\n",
      "[nltk_data]    |   Unzipping corpora\\biocreative_ppi.zip.\n",
      "[nltk_data]    | Downloading package brown to\n",
      "[nltk_data]    |     C:\\Users\\nmeli\\Documents\\Udacity\\Data\n",
      "[nltk_data]    |     Analysis\\Anacondas\\nltk_data...\n",
      "[nltk_data]    |   Unzipping corpora\\brown.zip.\n",
      "[nltk_data]    | Downloading package brown_tei to\n",
      "[nltk_data]    |     C:\\Users\\nmeli\\Documents\\Udacity\\Data\n",
      "[nltk_data]    |     Analysis\\Anacondas\\nltk_data...\n",
      "[nltk_data]    |   Unzipping corpora\\brown_tei.zip.\n",
      "[nltk_data]    | Downloading package cess_cat to\n",
      "[nltk_data]    |     C:\\Users\\nmeli\\Documents\\Udacity\\Data\n",
      "[nltk_data]    |     Analysis\\Anacondas\\nltk_data...\n",
      "[nltk_data]    |   Unzipping corpora\\cess_cat.zip.\n",
      "[nltk_data]    | Downloading package cess_esp to\n",
      "[nltk_data]    |     C:\\Users\\nmeli\\Documents\\Udacity\\Data\n",
      "[nltk_data]    |     Analysis\\Anacondas\\nltk_data...\n",
      "[nltk_data]    |   Unzipping corpora\\cess_esp.zip.\n",
      "[nltk_data]    | Downloading package chat80 to\n",
      "[nltk_data]    |     C:\\Users\\nmeli\\Documents\\Udacity\\Data\n",
      "[nltk_data]    |     Analysis\\Anacondas\\nltk_data...\n",
      "[nltk_data]    |   Unzipping corpora\\chat80.zip.\n",
      "[nltk_data]    | Downloading package city_database to\n",
      "[nltk_data]    |     C:\\Users\\nmeli\\Documents\\Udacity\\Data\n",
      "[nltk_data]    |     Analysis\\Anacondas\\nltk_data...\n",
      "[nltk_data]    |   Unzipping corpora\\city_database.zip.\n",
      "[nltk_data]    | Downloading package cmudict to\n",
      "[nltk_data]    |     C:\\Users\\nmeli\\Documents\\Udacity\\Data\n",
      "[nltk_data]    |     Analysis\\Anacondas\\nltk_data...\n",
      "[nltk_data]    |   Unzipping corpora\\cmudict.zip.\n",
      "[nltk_data]    | Downloading package comparative_sentences to\n",
      "[nltk_data]    |     C:\\Users\\nmeli\\Documents\\Udacity\\Data\n",
      "[nltk_data]    |     Analysis\\Anacondas\\nltk_data...\n",
      "[nltk_data]    |   Unzipping corpora\\comparative_sentences.zip.\n",
      "[nltk_data]    | Downloading package comtrans to\n",
      "[nltk_data]    |     C:\\Users\\nmeli\\Documents\\Udacity\\Data\n",
      "[nltk_data]    |     Analysis\\Anacondas\\nltk_data...\n",
      "[nltk_data]    | Downloading package conll2000 to\n",
      "[nltk_data]    |     C:\\Users\\nmeli\\Documents\\Udacity\\Data\n",
      "[nltk_data]    |     Analysis\\Anacondas\\nltk_data...\n",
      "[nltk_data]    |   Unzipping corpora\\conll2000.zip.\n",
      "[nltk_data]    | Downloading package conll2002 to\n",
      "[nltk_data]    |     C:\\Users\\nmeli\\Documents\\Udacity\\Data\n",
      "[nltk_data]    |     Analysis\\Anacondas\\nltk_data...\n",
      "[nltk_data]    |   Unzipping corpora\\conll2002.zip.\n",
      "[nltk_data]    | Downloading package conll2007 to\n",
      "[nltk_data]    |     C:\\Users\\nmeli\\Documents\\Udacity\\Data\n",
      "[nltk_data]    |     Analysis\\Anacondas\\nltk_data...\n",
      "[nltk_data]    | Downloading package crubadan to\n",
      "[nltk_data]    |     C:\\Users\\nmeli\\Documents\\Udacity\\Data\n",
      "[nltk_data]    |     Analysis\\Anacondas\\nltk_data...\n",
      "[nltk_data]    |   Unzipping corpora\\crubadan.zip.\n",
      "[nltk_data]    | Downloading package dependency_treebank to\n",
      "[nltk_data]    |     C:\\Users\\nmeli\\Documents\\Udacity\\Data\n",
      "[nltk_data]    |     Analysis\\Anacondas\\nltk_data...\n",
      "[nltk_data]    |   Unzipping corpora\\dependency_treebank.zip.\n",
      "[nltk_data]    | Downloading package dolch to\n",
      "[nltk_data]    |     C:\\Users\\nmeli\\Documents\\Udacity\\Data\n",
      "[nltk_data]    |     Analysis\\Anacondas\\nltk_data...\n",
      "[nltk_data]    |   Unzipping corpora\\dolch.zip.\n",
      "[nltk_data]    | Downloading package europarl_raw to\n",
      "[nltk_data]    |     C:\\Users\\nmeli\\Documents\\Udacity\\Data\n",
      "[nltk_data]    |     Analysis\\Anacondas\\nltk_data...\n",
      "[nltk_data]    |   Unzipping corpora\\europarl_raw.zip.\n",
      "[nltk_data]    | Downloading package floresta to\n",
      "[nltk_data]    |     C:\\Users\\nmeli\\Documents\\Udacity\\Data\n",
      "[nltk_data]    |     Analysis\\Anacondas\\nltk_data...\n",
      "[nltk_data]    |   Unzipping corpora\\floresta.zip.\n",
      "[nltk_data]    | Downloading package framenet_v15 to\n",
      "[nltk_data]    |     C:\\Users\\nmeli\\Documents\\Udacity\\Data\n",
      "[nltk_data]    |     Analysis\\Anacondas\\nltk_data...\n",
      "[nltk_data]    |   Unzipping corpora\\framenet_v15.zip.\n",
      "[nltk_data]    | Downloading package framenet_v17 to\n",
      "[nltk_data]    |     C:\\Users\\nmeli\\Documents\\Udacity\\Data\n",
      "[nltk_data]    |     Analysis\\Anacondas\\nltk_data...\n",
      "[nltk_data]    |   Unzipping corpora\\framenet_v17.zip.\n",
      "[nltk_data]    | Downloading package gazetteers to\n",
      "[nltk_data]    |     C:\\Users\\nmeli\\Documents\\Udacity\\Data\n",
      "[nltk_data]    |     Analysis\\Anacondas\\nltk_data...\n",
      "[nltk_data]    |   Unzipping corpora\\gazetteers.zip.\n",
      "[nltk_data]    | Downloading package genesis to\n",
      "[nltk_data]    |     C:\\Users\\nmeli\\Documents\\Udacity\\Data\n",
      "[nltk_data]    |     Analysis\\Anacondas\\nltk_data...\n",
      "[nltk_data]    |   Unzipping corpora\\genesis.zip.\n",
      "[nltk_data]    | Downloading package gutenberg to\n",
      "[nltk_data]    |     C:\\Users\\nmeli\\Documents\\Udacity\\Data\n",
      "[nltk_data]    |     Analysis\\Anacondas\\nltk_data...\n",
      "[nltk_data]    |   Unzipping corpora\\gutenberg.zip.\n",
      "[nltk_data]    | Downloading package ieer to\n",
      "[nltk_data]    |     C:\\Users\\nmeli\\Documents\\Udacity\\Data\n",
      "[nltk_data]    |     Analysis\\Anacondas\\nltk_data...\n",
      "[nltk_data]    |   Unzipping corpora\\ieer.zip.\n",
      "[nltk_data]    | Downloading package inaugural to\n",
      "[nltk_data]    |     C:\\Users\\nmeli\\Documents\\Udacity\\Data\n",
      "[nltk_data]    |     Analysis\\Anacondas\\nltk_data...\n",
      "[nltk_data]    |   Unzipping corpora\\inaugural.zip.\n",
      "[nltk_data]    | Downloading package indian to\n",
      "[nltk_data]    |     C:\\Users\\nmeli\\Documents\\Udacity\\Data\n",
      "[nltk_data]    |     Analysis\\Anacondas\\nltk_data...\n",
      "[nltk_data]    |   Unzipping corpora\\indian.zip.\n",
      "[nltk_data]    | Downloading package jeita to\n",
      "[nltk_data]    |     C:\\Users\\nmeli\\Documents\\Udacity\\Data\n",
      "[nltk_data]    |     Analysis\\Anacondas\\nltk_data...\n",
      "[nltk_data]    | Downloading package kimmo to\n",
      "[nltk_data]    |     C:\\Users\\nmeli\\Documents\\Udacity\\Data\n",
      "[nltk_data]    |     Analysis\\Anacondas\\nltk_data...\n",
      "[nltk_data]    |   Unzipping corpora\\kimmo.zip.\n",
      "[nltk_data]    | Downloading package knbc to\n",
      "[nltk_data]    |     C:\\Users\\nmeli\\Documents\\Udacity\\Data\n",
      "[nltk_data]    |     Analysis\\Anacondas\\nltk_data...\n",
      "[nltk_data]    | Downloading package lin_thesaurus to\n",
      "[nltk_data]    |     C:\\Users\\nmeli\\Documents\\Udacity\\Data\n",
      "[nltk_data]    |     Analysis\\Anacondas\\nltk_data...\n",
      "[nltk_data]    |   Unzipping corpora\\lin_thesaurus.zip.\n",
      "[nltk_data]    | Downloading package mac_morpho to\n",
      "[nltk_data]    |     C:\\Users\\nmeli\\Documents\\Udacity\\Data\n",
      "[nltk_data]    |     Analysis\\Anacondas\\nltk_data...\n",
      "[nltk_data]    |   Unzipping corpora\\mac_morpho.zip.\n",
      "[nltk_data]    | Downloading package machado to\n",
      "[nltk_data]    |     C:\\Users\\nmeli\\Documents\\Udacity\\Data\n",
      "[nltk_data]    |     Analysis\\Anacondas\\nltk_data...\n",
      "[nltk_data]    | Downloading package masc_tagged to\n",
      "[nltk_data]    |     C:\\Users\\nmeli\\Documents\\Udacity\\Data\n",
      "[nltk_data]    |     Analysis\\Anacondas\\nltk_data...\n",
      "[nltk_data]    | Downloading package moses_sample to\n",
      "[nltk_data]    |     C:\\Users\\nmeli\\Documents\\Udacity\\Data\n",
      "[nltk_data]    |     Analysis\\Anacondas\\nltk_data...\n",
      "[nltk_data]    |   Unzipping models\\moses_sample.zip.\n",
      "[nltk_data]    | Downloading package movie_reviews to\n",
      "[nltk_data]    |     C:\\Users\\nmeli\\Documents\\Udacity\\Data\n",
      "[nltk_data]    |     Analysis\\Anacondas\\nltk_data...\n",
      "[nltk_data]    |   Unzipping corpora\\movie_reviews.zip.\n",
      "[nltk_data]    | Downloading package names to\n",
      "[nltk_data]    |     C:\\Users\\nmeli\\Documents\\Udacity\\Data\n",
      "[nltk_data]    |     Analysis\\Anacondas\\nltk_data...\n",
      "[nltk_data]    |   Unzipping corpora\\names.zip.\n",
      "[nltk_data]    | Downloading package nombank.1.0 to\n",
      "[nltk_data]    |     C:\\Users\\nmeli\\Documents\\Udacity\\Data\n",
      "[nltk_data]    |     Analysis\\Anacondas\\nltk_data...\n",
      "[nltk_data]    | Downloading package nps_chat to\n",
      "[nltk_data]    |     C:\\Users\\nmeli\\Documents\\Udacity\\Data\n",
      "[nltk_data]    |     Analysis\\Anacondas\\nltk_data...\n"
     ]
    },
    {
     "name": "stdout",
     "output_type": "stream",
     "text": [
      "[nltk_data]    |   Unzipping corpora\\nps_chat.zip.\n",
      "[nltk_data]    | Downloading package omw to\n",
      "[nltk_data]    |     C:\\Users\\nmeli\\Documents\\Udacity\\Data\n",
      "[nltk_data]    |     Analysis\\Anacondas\\nltk_data...\n",
      "[nltk_data]    |   Unzipping corpora\\omw.zip.\n",
      "[nltk_data]    | Downloading package opinion_lexicon to\n",
      "[nltk_data]    |     C:\\Users\\nmeli\\Documents\\Udacity\\Data\n",
      "[nltk_data]    |     Analysis\\Anacondas\\nltk_data...\n",
      "[nltk_data]    |   Unzipping corpora\\opinion_lexicon.zip.\n",
      "[nltk_data]    | Downloading package paradigms to\n",
      "[nltk_data]    |     C:\\Users\\nmeli\\Documents\\Udacity\\Data\n",
      "[nltk_data]    |     Analysis\\Anacondas\\nltk_data...\n",
      "[nltk_data]    |   Unzipping corpora\\paradigms.zip.\n",
      "[nltk_data]    | Downloading package pil to\n",
      "[nltk_data]    |     C:\\Users\\nmeli\\Documents\\Udacity\\Data\n",
      "[nltk_data]    |     Analysis\\Anacondas\\nltk_data...\n",
      "[nltk_data]    |   Unzipping corpora\\pil.zip.\n",
      "[nltk_data]    | Downloading package pl196x to\n",
      "[nltk_data]    |     C:\\Users\\nmeli\\Documents\\Udacity\\Data\n",
      "[nltk_data]    |     Analysis\\Anacondas\\nltk_data...\n",
      "[nltk_data]    |   Unzipping corpora\\pl196x.zip.\n",
      "[nltk_data]    | Downloading package ppattach to\n",
      "[nltk_data]    |     C:\\Users\\nmeli\\Documents\\Udacity\\Data\n",
      "[nltk_data]    |     Analysis\\Anacondas\\nltk_data...\n",
      "[nltk_data]    |   Unzipping corpora\\ppattach.zip.\n",
      "[nltk_data]    | Downloading package problem_reports to\n",
      "[nltk_data]    |     C:\\Users\\nmeli\\Documents\\Udacity\\Data\n",
      "[nltk_data]    |     Analysis\\Anacondas\\nltk_data...\n",
      "[nltk_data]    |   Unzipping corpora\\problem_reports.zip.\n",
      "[nltk_data]    | Downloading package propbank to\n",
      "[nltk_data]    |     C:\\Users\\nmeli\\Documents\\Udacity\\Data\n",
      "[nltk_data]    |     Analysis\\Anacondas\\nltk_data...\n",
      "[nltk_data]    | Downloading package ptb to\n",
      "[nltk_data]    |     C:\\Users\\nmeli\\Documents\\Udacity\\Data\n",
      "[nltk_data]    |     Analysis\\Anacondas\\nltk_data...\n",
      "[nltk_data]    |   Unzipping corpora\\ptb.zip.\n",
      "[nltk_data]    | Downloading package product_reviews_1 to\n",
      "[nltk_data]    |     C:\\Users\\nmeli\\Documents\\Udacity\\Data\n",
      "[nltk_data]    |     Analysis\\Anacondas\\nltk_data...\n",
      "[nltk_data]    |   Unzipping corpora\\product_reviews_1.zip.\n",
      "[nltk_data]    | Downloading package product_reviews_2 to\n",
      "[nltk_data]    |     C:\\Users\\nmeli\\Documents\\Udacity\\Data\n",
      "[nltk_data]    |     Analysis\\Anacondas\\nltk_data...\n",
      "[nltk_data]    |   Unzipping corpora\\product_reviews_2.zip.\n",
      "[nltk_data]    | Downloading package pros_cons to\n",
      "[nltk_data]    |     C:\\Users\\nmeli\\Documents\\Udacity\\Data\n",
      "[nltk_data]    |     Analysis\\Anacondas\\nltk_data...\n",
      "[nltk_data]    |   Unzipping corpora\\pros_cons.zip.\n",
      "[nltk_data]    | Downloading package qc to\n",
      "[nltk_data]    |     C:\\Users\\nmeli\\Documents\\Udacity\\Data\n",
      "[nltk_data]    |     Analysis\\Anacondas\\nltk_data...\n",
      "[nltk_data]    |   Unzipping corpora\\qc.zip.\n",
      "[nltk_data]    | Downloading package reuters to\n",
      "[nltk_data]    |     C:\\Users\\nmeli\\Documents\\Udacity\\Data\n",
      "[nltk_data]    |     Analysis\\Anacondas\\nltk_data...\n",
      "[nltk_data]    | Downloading package rte to\n",
      "[nltk_data]    |     C:\\Users\\nmeli\\Documents\\Udacity\\Data\n",
      "[nltk_data]    |     Analysis\\Anacondas\\nltk_data...\n",
      "[nltk_data]    |   Unzipping corpora\\rte.zip.\n",
      "[nltk_data]    | Downloading package semcor to\n",
      "[nltk_data]    |     C:\\Users\\nmeli\\Documents\\Udacity\\Data\n",
      "[nltk_data]    |     Analysis\\Anacondas\\nltk_data...\n",
      "[nltk_data]    | Downloading package senseval to\n",
      "[nltk_data]    |     C:\\Users\\nmeli\\Documents\\Udacity\\Data\n",
      "[nltk_data]    |     Analysis\\Anacondas\\nltk_data...\n",
      "[nltk_data]    |   Unzipping corpora\\senseval.zip.\n",
      "[nltk_data]    | Downloading package sentiwordnet to\n",
      "[nltk_data]    |     C:\\Users\\nmeli\\Documents\\Udacity\\Data\n",
      "[nltk_data]    |     Analysis\\Anacondas\\nltk_data...\n",
      "[nltk_data]    |   Unzipping corpora\\sentiwordnet.zip.\n",
      "[nltk_data]    | Downloading package sentence_polarity to\n",
      "[nltk_data]    |     C:\\Users\\nmeli\\Documents\\Udacity\\Data\n",
      "[nltk_data]    |     Analysis\\Anacondas\\nltk_data...\n",
      "[nltk_data]    |   Unzipping corpora\\sentence_polarity.zip.\n",
      "[nltk_data]    | Downloading package shakespeare to\n",
      "[nltk_data]    |     C:\\Users\\nmeli\\Documents\\Udacity\\Data\n",
      "[nltk_data]    |     Analysis\\Anacondas\\nltk_data...\n",
      "[nltk_data]    |   Unzipping corpora\\shakespeare.zip.\n",
      "[nltk_data]    | Downloading package sinica_treebank to\n",
      "[nltk_data]    |     C:\\Users\\nmeli\\Documents\\Udacity\\Data\n",
      "[nltk_data]    |     Analysis\\Anacondas\\nltk_data...\n",
      "[nltk_data]    |   Unzipping corpora\\sinica_treebank.zip.\n",
      "[nltk_data]    | Downloading package smultron to\n",
      "[nltk_data]    |     C:\\Users\\nmeli\\Documents\\Udacity\\Data\n",
      "[nltk_data]    |     Analysis\\Anacondas\\nltk_data...\n",
      "[nltk_data]    |   Unzipping corpora\\smultron.zip.\n",
      "[nltk_data]    | Downloading package state_union to\n",
      "[nltk_data]    |     C:\\Users\\nmeli\\Documents\\Udacity\\Data\n",
      "[nltk_data]    |     Analysis\\Anacondas\\nltk_data...\n",
      "[nltk_data]    |   Unzipping corpora\\state_union.zip.\n",
      "[nltk_data]    | Downloading package stopwords to\n",
      "[nltk_data]    |     C:\\Users\\nmeli\\Documents\\Udacity\\Data\n",
      "[nltk_data]    |     Analysis\\Anacondas\\nltk_data...\n",
      "[nltk_data]    |   Unzipping corpora\\stopwords.zip.\n",
      "[nltk_data]    | Downloading package subjectivity to\n",
      "[nltk_data]    |     C:\\Users\\nmeli\\Documents\\Udacity\\Data\n",
      "[nltk_data]    |     Analysis\\Anacondas\\nltk_data...\n",
      "[nltk_data]    |   Unzipping corpora\\subjectivity.zip.\n",
      "[nltk_data]    | Downloading package swadesh to\n",
      "[nltk_data]    |     C:\\Users\\nmeli\\Documents\\Udacity\\Data\n",
      "[nltk_data]    |     Analysis\\Anacondas\\nltk_data...\n",
      "[nltk_data]    |   Unzipping corpora\\swadesh.zip.\n",
      "[nltk_data]    | Downloading package switchboard to\n",
      "[nltk_data]    |     C:\\Users\\nmeli\\Documents\\Udacity\\Data\n",
      "[nltk_data]    |     Analysis\\Anacondas\\nltk_data...\n",
      "[nltk_data]    |   Unzipping corpora\\switchboard.zip.\n",
      "[nltk_data]    | Downloading package timit to\n",
      "[nltk_data]    |     C:\\Users\\nmeli\\Documents\\Udacity\\Data\n",
      "[nltk_data]    |     Analysis\\Anacondas\\nltk_data...\n",
      "[nltk_data]    |   Unzipping corpora\\timit.zip.\n",
      "[nltk_data]    | Downloading package toolbox to\n",
      "[nltk_data]    |     C:\\Users\\nmeli\\Documents\\Udacity\\Data\n",
      "[nltk_data]    |     Analysis\\Anacondas\\nltk_data...\n",
      "[nltk_data]    |   Unzipping corpora\\toolbox.zip.\n",
      "[nltk_data]    | Downloading package treebank to\n",
      "[nltk_data]    |     C:\\Users\\nmeli\\Documents\\Udacity\\Data\n",
      "[nltk_data]    |     Analysis\\Anacondas\\nltk_data...\n",
      "[nltk_data]    |   Unzipping corpora\\treebank.zip.\n",
      "[nltk_data]    | Downloading package twitter_samples to\n",
      "[nltk_data]    |     C:\\Users\\nmeli\\Documents\\Udacity\\Data\n",
      "[nltk_data]    |     Analysis\\Anacondas\\nltk_data...\n",
      "[nltk_data]    |   Unzipping corpora\\twitter_samples.zip.\n",
      "[nltk_data]    | Downloading package udhr to\n",
      "[nltk_data]    |     C:\\Users\\nmeli\\Documents\\Udacity\\Data\n",
      "[nltk_data]    |     Analysis\\Anacondas\\nltk_data...\n",
      "[nltk_data]    |   Unzipping corpora\\udhr.zip.\n",
      "[nltk_data]    | Downloading package udhr2 to\n",
      "[nltk_data]    |     C:\\Users\\nmeli\\Documents\\Udacity\\Data\n",
      "[nltk_data]    |     Analysis\\Anacondas\\nltk_data...\n",
      "[nltk_data]    |   Unzipping corpora\\udhr2.zip.\n",
      "[nltk_data]    | Downloading package unicode_samples to\n",
      "[nltk_data]    |     C:\\Users\\nmeli\\Documents\\Udacity\\Data\n",
      "[nltk_data]    |     Analysis\\Anacondas\\nltk_data...\n",
      "[nltk_data]    |   Unzipping corpora\\unicode_samples.zip.\n",
      "[nltk_data]    | Downloading package universal_treebanks_v20 to\n",
      "[nltk_data]    |     C:\\Users\\nmeli\\Documents\\Udacity\\Data\n",
      "[nltk_data]    |     Analysis\\Anacondas\\nltk_data...\n",
      "[nltk_data]    | Downloading package verbnet to\n",
      "[nltk_data]    |     C:\\Users\\nmeli\\Documents\\Udacity\\Data\n",
      "[nltk_data]    |     Analysis\\Anacondas\\nltk_data...\n",
      "[nltk_data]    |   Unzipping corpora\\verbnet.zip.\n",
      "[nltk_data]    | Downloading package webtext to\n",
      "[nltk_data]    |     C:\\Users\\nmeli\\Documents\\Udacity\\Data\n",
      "[nltk_data]    |     Analysis\\Anacondas\\nltk_data...\n",
      "[nltk_data]    |   Unzipping corpora\\webtext.zip.\n",
      "[nltk_data]    | Downloading package wordnet to\n",
      "[nltk_data]    |     C:\\Users\\nmeli\\Documents\\Udacity\\Data\n",
      "[nltk_data]    |     Analysis\\Anacondas\\nltk_data...\n",
      "[nltk_data]    |   Unzipping corpora\\wordnet.zip.\n",
      "[nltk_data]    | Downloading package wordnet_ic to\n",
      "[nltk_data]    |     C:\\Users\\nmeli\\Documents\\Udacity\\Data\n",
      "[nltk_data]    |     Analysis\\Anacondas\\nltk_data...\n",
      "[nltk_data]    |   Unzipping corpora\\wordnet_ic.zip.\n"
     ]
    },
    {
     "name": "stdout",
     "output_type": "stream",
     "text": [
      "[nltk_data]    | Downloading package words to\n",
      "[nltk_data]    |     C:\\Users\\nmeli\\Documents\\Udacity\\Data\n",
      "[nltk_data]    |     Analysis\\Anacondas\\nltk_data...\n",
      "[nltk_data]    |   Unzipping corpora\\words.zip.\n",
      "[nltk_data]    | Downloading package ycoe to\n",
      "[nltk_data]    |     C:\\Users\\nmeli\\Documents\\Udacity\\Data\n",
      "[nltk_data]    |     Analysis\\Anacondas\\nltk_data...\n",
      "[nltk_data]    |   Unzipping corpora\\ycoe.zip.\n",
      "[nltk_data]    | Downloading package rslp to\n",
      "[nltk_data]    |     C:\\Users\\nmeli\\Documents\\Udacity\\Data\n",
      "[nltk_data]    |     Analysis\\Anacondas\\nltk_data...\n",
      "[nltk_data]    |   Unzipping stemmers\\rslp.zip.\n",
      "[nltk_data]    | Downloading package hmm_treebank_pos_tagger to\n",
      "[nltk_data]    |     C:\\Users\\nmeli\\Documents\\Udacity\\Data\n",
      "[nltk_data]    |     Analysis\\Anacondas\\nltk_data...\n",
      "[nltk_data]    |   Unzipping taggers\\hmm_treebank_pos_tagger.zip.\n",
      "[nltk_data]    | Downloading package maxent_treebank_pos_tagger to\n",
      "[nltk_data]    |     C:\\Users\\nmeli\\Documents\\Udacity\\Data\n",
      "[nltk_data]    |     Analysis\\Anacondas\\nltk_data...\n",
      "[nltk_data]    |   Unzipping taggers\\maxent_treebank_pos_tagger.zip.\n",
      "[nltk_data]    | Downloading package universal_tagset to\n",
      "[nltk_data]    |     C:\\Users\\nmeli\\Documents\\Udacity\\Data\n",
      "[nltk_data]    |     Analysis\\Anacondas\\nltk_data...\n",
      "[nltk_data]    |   Unzipping taggers\\universal_tagset.zip.\n",
      "[nltk_data]    | Downloading package maxent_ne_chunker to\n",
      "[nltk_data]    |     C:\\Users\\nmeli\\Documents\\Udacity\\Data\n",
      "[nltk_data]    |     Analysis\\Anacondas\\nltk_data...\n",
      "[nltk_data]    |   Unzipping chunkers\\maxent_ne_chunker.zip.\n",
      "[nltk_data]    | Downloading package punkt to\n",
      "[nltk_data]    |     C:\\Users\\nmeli\\Documents\\Udacity\\Data\n",
      "[nltk_data]    |     Analysis\\Anacondas\\nltk_data...\n",
      "[nltk_data]    |   Unzipping tokenizers\\punkt.zip.\n",
      "[nltk_data]    | Downloading package book_grammars to\n",
      "[nltk_data]    |     C:\\Users\\nmeli\\Documents\\Udacity\\Data\n",
      "[nltk_data]    |     Analysis\\Anacondas\\nltk_data...\n",
      "[nltk_data]    |   Unzipping grammars\\book_grammars.zip.\n",
      "[nltk_data]    | Downloading package sample_grammars to\n",
      "[nltk_data]    |     C:\\Users\\nmeli\\Documents\\Udacity\\Data\n",
      "[nltk_data]    |     Analysis\\Anacondas\\nltk_data...\n",
      "[nltk_data]    |   Unzipping grammars\\sample_grammars.zip.\n",
      "[nltk_data]    | Downloading package spanish_grammars to\n",
      "[nltk_data]    |     C:\\Users\\nmeli\\Documents\\Udacity\\Data\n",
      "[nltk_data]    |     Analysis\\Anacondas\\nltk_data...\n",
      "[nltk_data]    |   Unzipping grammars\\spanish_grammars.zip.\n",
      "[nltk_data]    | Downloading package basque_grammars to\n",
      "[nltk_data]    |     C:\\Users\\nmeli\\Documents\\Udacity\\Data\n",
      "[nltk_data]    |     Analysis\\Anacondas\\nltk_data...\n",
      "[nltk_data]    |   Unzipping grammars\\basque_grammars.zip.\n",
      "[nltk_data]    | Downloading package large_grammars to\n",
      "[nltk_data]    |     C:\\Users\\nmeli\\Documents\\Udacity\\Data\n",
      "[nltk_data]    |     Analysis\\Anacondas\\nltk_data...\n",
      "[nltk_data]    |   Unzipping grammars\\large_grammars.zip.\n",
      "[nltk_data]    | Downloading package tagsets to\n",
      "[nltk_data]    |     C:\\Users\\nmeli\\Documents\\Udacity\\Data\n",
      "[nltk_data]    |     Analysis\\Anacondas\\nltk_data...\n",
      "[nltk_data]    |   Unzipping help\\tagsets.zip.\n",
      "[nltk_data]    | Downloading package snowball_data to\n",
      "[nltk_data]    |     C:\\Users\\nmeli\\Documents\\Udacity\\Data\n",
      "[nltk_data]    |     Analysis\\Anacondas\\nltk_data...\n",
      "[nltk_data]    | Downloading package bllip_wsj_no_aux to\n",
      "[nltk_data]    |     C:\\Users\\nmeli\\Documents\\Udacity\\Data\n",
      "[nltk_data]    |     Analysis\\Anacondas\\nltk_data...\n",
      "[nltk_data]    |   Unzipping models\\bllip_wsj_no_aux.zip.\n",
      "[nltk_data]    | Downloading package word2vec_sample to\n",
      "[nltk_data]    |     C:\\Users\\nmeli\\Documents\\Udacity\\Data\n",
      "[nltk_data]    |     Analysis\\Anacondas\\nltk_data...\n",
      "[nltk_data]    |   Unzipping models\\word2vec_sample.zip.\n",
      "[nltk_data]    | Downloading package panlex_swadesh to\n",
      "[nltk_data]    |     C:\\Users\\nmeli\\Documents\\Udacity\\Data\n",
      "[nltk_data]    |     Analysis\\Anacondas\\nltk_data...\n",
      "[nltk_data]    | Downloading package mte_teip5 to\n",
      "[nltk_data]    |     C:\\Users\\nmeli\\Documents\\Udacity\\Data\n",
      "[nltk_data]    |     Analysis\\Anacondas\\nltk_data...\n",
      "[nltk_data]    |   Unzipping corpora\\mte_teip5.zip.\n",
      "[nltk_data]    | Downloading package averaged_perceptron_tagger to\n",
      "[nltk_data]    |     C:\\Users\\nmeli\\Documents\\Udacity\\Data\n",
      "[nltk_data]    |     Analysis\\Anacondas\\nltk_data...\n",
      "[nltk_data]    |   Unzipping taggers\\averaged_perceptron_tagger.zip.\n",
      "[nltk_data]    | Downloading package perluniprops to\n",
      "[nltk_data]    |     C:\\Users\\nmeli\\Documents\\Udacity\\Data\n",
      "[nltk_data]    |     Analysis\\Anacondas\\nltk_data...\n",
      "[nltk_data]    |   Unzipping misc\\perluniprops.zip.\n",
      "[nltk_data]    | Downloading package nonbreaking_prefixes to\n",
      "[nltk_data]    |     C:\\Users\\nmeli\\Documents\\Udacity\\Data\n",
      "[nltk_data]    |     Analysis\\Anacondas\\nltk_data...\n",
      "[nltk_data]    |   Unzipping corpora\\nonbreaking_prefixes.zip.\n",
      "[nltk_data]    | Downloading package vader_lexicon to\n",
      "[nltk_data]    |     C:\\Users\\nmeli\\Documents\\Udacity\\Data\n",
      "[nltk_data]    |     Analysis\\Anacondas\\nltk_data...\n",
      "[nltk_data]    | Downloading package porter_test to\n",
      "[nltk_data]    |     C:\\Users\\nmeli\\Documents\\Udacity\\Data\n",
      "[nltk_data]    |     Analysis\\Anacondas\\nltk_data...\n",
      "[nltk_data]    |   Unzipping stemmers\\porter_test.zip.\n",
      "[nltk_data]    | Downloading package wmt15_eval to\n",
      "[nltk_data]    |     C:\\Users\\nmeli\\Documents\\Udacity\\Data\n",
      "[nltk_data]    |     Analysis\\Anacondas\\nltk_data...\n",
      "[nltk_data]    |   Unzipping models\\wmt15_eval.zip.\n",
      "[nltk_data]    | Downloading package mwa_ppdb to\n",
      "[nltk_data]    |     C:\\Users\\nmeli\\Documents\\Udacity\\Data\n",
      "[nltk_data]    |     Analysis\\Anacondas\\nltk_data...\n",
      "[nltk_data]    |   Unzipping misc\\mwa_ppdb.zip.\n",
      "[nltk_data]    | \n",
      "[nltk_data]  Done downloading collection all\n"
     ]
    },
    {
     "data": {
      "text/plain": [
       "True"
      ]
     },
     "execution_count": 5,
     "metadata": {},
     "output_type": "execute_result"
    }
   ],
   "source": [
    "import nltk\n",
    "nltk.download('all', halt_on_error=False)\n"
   ]
  },
  {
   "cell_type": "code",
   "execution_count": 8,
   "metadata": {},
   "outputs": [
    {
     "name": "stdout",
     "output_type": "stream",
     "text": [
      "i\n",
      "153\n"
     ]
    }
   ],
   "source": [
    "sw = stopwords.words(\"english\")\n",
    "print sw[0]\n",
    "print len(sw)"
   ]
  },
  {
   "cell_type": "markdown",
   "metadata": {},
   "source": [
    "## Stemming"
   ]
  },
  {
   "cell_type": "code",
   "execution_count": 10,
   "metadata": {
    "collapsed": true
   },
   "outputs": [],
   "source": [
    "from nltk.stem.snowball import SnowballStemmer"
   ]
  },
  {
   "cell_type": "code",
   "execution_count": 11,
   "metadata": {
    "collapsed": true
   },
   "outputs": [],
   "source": [
    "stemmer = SnowballStemmer(\"english\")"
   ]
  },
  {
   "cell_type": "code",
   "execution_count": 12,
   "metadata": {},
   "outputs": [
    {
     "data": {
      "text/plain": [
       "u'respons'"
      ]
     },
     "execution_count": 12,
     "metadata": {},
     "output_type": "execute_result"
    }
   ],
   "source": [
    "stemmer.stem(\"responsiveness\")"
   ]
  },
  {
   "cell_type": "code",
   "execution_count": 13,
   "metadata": {},
   "outputs": [
    {
     "data": {
      "text/plain": [
       "u'unrespons'"
      ]
     },
     "execution_count": 13,
     "metadata": {},
     "output_type": "execute_result"
    }
   ],
   "source": [
    "stemmer.stem(\"unresponsiveness\")"
   ]
  },
  {
   "cell_type": "code",
   "execution_count": 14,
   "metadata": {},
   "outputs": [
    {
     "data": {
      "text/plain": [
       "u'respons'"
      ]
     },
     "execution_count": 14,
     "metadata": {},
     "output_type": "execute_result"
    }
   ],
   "source": [
    "stemmer.stem(\"responsivity\")"
   ]
  },
  {
   "cell_type": "markdown",
   "metadata": {},
   "source": [
    "## Text Learning Mini Project"
   ]
  },
  {
   "cell_type": "markdown",
   "metadata": {},
   "source": [
    " Clean Away \"Signature Words\"\n",
    " In vectorize_text.py, you will iterate through all the emails from Chris and from Sara. For each email, feed the opened email to parseOutText() and return the stemmed text string. Then do two things:\n",
    "\n",
    "remove signature words (“sara”, “shackleton”, “chris”, “germani”--bonus points if you can figure out why it's \"germani\" and not \"germany\")\n",
    "append the updated text string to word_data -- if the email is from Sara, append 0 (zero) to from_data, or append a 1 if Chris wrote the email.\n",
    "Once this step is complete, you should have two lists: one contains the stemmed text of each email, and the second should contain the labels that encode (via a 0 or 1) who the author of that email is.\n",
    "\n",
    "Running over all the emails can take a little while (5 minutes or more), so we've added a temp_counter to cut things off after the first 200 emails. Of course, once everything is working, you'd want to run over the full dataset.\n",
    "\n",
    "In the box below, put the string that you get for word_data[152]."
   ]
  },
  {
   "cell_type": "code",
   "execution_count": 38,
   "metadata": {},
   "outputs": [],
   "source": [
    "# Warming up with parseOutText()\n",
    "#!/usr/bin/python\n",
    "from nltk.stem.snowball import SnowballStemmer\n",
    "import string\n",
    "def parseOutText(f):\n",
    "    \n",
    "    \"\"\"  given an opened email file f, parse out all text below the\n",
    "        metadata block at the top\n",
    "        (in Part 2, you will also add stemming capabilities)\n",
    "        and return a string that contains all the words\n",
    "        in the email (space-separated) \n",
    "        \n",
    "        example use case:\n",
    "        f = open(\"email_file_name.txt\", \"r\")\n",
    "        text = parseOutText(f)\n",
    "        \n",
    "        \"\"\"\n",
    "    f.seek(0)  ### go back to beginning of file (annoying)\n",
    "    all_text = f.read()\n",
    "    stemmer = SnowballStemmer(\"english\")\n",
    "\n",
    "    ### split off metadata\n",
    "    content = all_text.split(\"X-FileName:\")\n",
    "    words = \"\"\n",
    "    if len(content) > 1:\n",
    "        ### remove punctuation\n",
    "        text_string = content[1].translate(string.maketrans(\"\", \"\"), string.punctuation)\n",
    "\n",
    "        ### project part 2: comment out the line below\n",
    "        #words = text_string\n",
    "        \n",
    "        ### split the text string into individual words, stem each word,\n",
    "        text_list=text_string.split()\n",
    "        #print text_list\n",
    "        singles = [stemmer.stem(word) for word in text_list]\n",
    "        \n",
    "        ### and append the stemmed word to words (make sure there's a single\n",
    "        ### space between each stemmed word)\n",
    "        words = (' '.join(singles))\n",
    "        \n",
    "    \n",
    "    return words\n",
    "\n",
    "    \n",
    "\n",
    "\n",
    "\n",
    "#def main():\n",
    "#    ff = open(\"test_email.txt\", \"r\")\n",
    "#    text = parseOutText(ff)\n",
    "#    print text\n",
    "\n",
    "\n",
    "\n",
    "#if __name__ == '__main__':\n",
    "#    main()\n"
   ]
  },
  {
   "cell_type": "code",
   "execution_count": 36,
   "metadata": {
    "scrolled": true
   },
   "outputs": [
    {
     "name": "stdout",
     "output_type": "stream",
     "text": [
      "emails processed\n"
     ]
    }
   ],
   "source": [
    "#!/usr/bin/python\n",
    "\n",
    "import os\n",
    "import pickle\n",
    "import re\n",
    "import sys\n",
    "\n",
    "#sys.path.append( \"../tools/\" )\n",
    "#from parse_out_email_text import parseOutText\n",
    "\n",
    "\"\"\"\n",
    "    Starter code to process the emails from Sara and Chris to extract\n",
    "    the features and get the documents ready for classification.\n",
    "\n",
    "    The list of all the emails from Sara are in the from_sara list\n",
    "    likewise for emails from Chris (from_chris)\n",
    "\n",
    "    The actual documents are in the Enron email dataset, which\n",
    "    you downloaded/unpacked in Part 0 of the first mini-project. If you have\n",
    "    not obtained the Enron email corpus, run startup.py in the tools folder.\n",
    "\n",
    "    The data is stored in lists and packed away in pickle files at the end.\n",
    "\"\"\"\n",
    "\n",
    "\n",
    "from_sara  = open(\"from_sara.txt\", \"r\")\n",
    "from_chris = open(\"from_chris.txt\", \"r\")\n",
    "\n",
    "from_data = []\n",
    "word_data = []\n",
    "\n",
    "### temp_counter is a way to speed up the development--there are\n",
    "### thousands of emails from Sara and Chris, so running over all of them\n",
    "### can take a long time\n",
    "### temp_counter helps you only look at the first 200 emails in the list so you\n",
    "### can iterate your modifications quicker\n",
    "temp_counter = 0\n",
    "\n",
    "\n",
    "for name, from_person in [(\"sara\", from_sara), (\"chris\", from_chris)]:\n",
    "    #print \"name = \", name\n",
    "    for path in from_person:\n",
    "        ### only look at first 200 emails when developing\n",
    "        ### once everything is working, remove this line to run over full dataset\n",
    "        #temp_counter += 1\n",
    "        #if temp_counter < 200:\n",
    "        path = path[:-2]+\"_\"\n",
    "            #path = os.path.join('..', path[:-1])\n",
    "            #print path\n",
    "        email = open(path, \"r\")\n",
    "            \n",
    "\n",
    "            ### use parseOutText to extract the text from the opened email\n",
    "        words = parseOutText(email)\n",
    "        temp = words.split()\n",
    "        words = ' '.join([item.strip() for item in temp])\n",
    "        remove = [\"sara\", \"shackleton\", \"chris\", \"germani\"]\n",
    "    # replace each word with an empty string (== remove)\n",
    "        for word in remove:        \n",
    "            words = words.replace(word,'')\n",
    " \n",
    "        word_data.append(words)\n",
    "        if name=='Sara':\n",
    "            from_data.append(0)\n",
    "        if name =='Chris':\n",
    "            from_data.append(1)\n",
    "            ### use str.replace() to remove any instances of the words\n",
    "            ### [\"sara\", \"shackleton\", \"chris\", \"germani\"]\n",
    "\n",
    "            ### append the text to word_data\n",
    "\n",
    "            ### append a 0 to from_data if email is from Sara, and 1 if email is from Chris\n",
    "\n",
    "        #print \"end of email \\n\"\n",
    "        email.close()\n",
    "\n",
    "print \"emails processed\"\n",
    "from_sara.close()\n",
    "from_chris.close()\n",
    "\n",
    "pickle.dump( word_data, open(\"your_word_data.pkl\", \"w\") )\n",
    "pickle.dump( from_data, open(\"your_email_authors.pkl\", \"w\") )\n",
    "\n",
    "\n",
    "\n",
    "\n",
    "\n",
    "### in Part 4, do TfIdf vectorization here\n",
    "\n",
    "\n"
   ]
  },
  {
   "cell_type": "code",
   "execution_count": 37,
   "metadata": {},
   "outputs": [
    {
     "data": {
      "text/plain": [
       "u'tjonesnsf stephani and sam need nymex calendar'"
      ]
     },
     "execution_count": 37,
     "metadata": {},
     "output_type": "execute_result"
    }
   ],
   "source": [
    "word_data[152]"
   ]
  },
  {
   "cell_type": "markdown",
   "metadata": {},
   "source": [
    "## Tfidf It\n",
    "Transform the word_data into a tf-idf matrix using the sklearn TfIdf transformation. Remove english stopwords.\n",
    "\n",
    "You can access the mapping between words and feature numbers using get_feature_names(), which returns a list of all the words in the vocabulary. How many different words are there?"
   ]
  },
  {
   "cell_type": "code",
   "execution_count": 47,
   "metadata": {},
   "outputs": [
    {
     "data": {
      "text/plain": [
       "<17578x38757 sparse matrix of type '<type 'numpy.float64'>'\n",
       "\twith 1078821 stored elements in Compressed Sparse Row format>"
      ]
     },
     "execution_count": 47,
     "metadata": {},
     "output_type": "execute_result"
    }
   ],
   "source": [
    "from sklearn.feature_extraction.text import TfidfVectorizer\n",
    "vectorizer = TfidfVectorizer(stop_words='english')\n",
    "vectorizer.fit_transform(word_data)"
   ]
  },
  {
   "cell_type": "code",
   "execution_count": 50,
   "metadata": {},
   "outputs": [
    {
     "data": {
      "text/plain": [
       "38757"
      ]
     },
     "execution_count": 50,
     "metadata": {},
     "output_type": "execute_result"
    }
   ],
   "source": [
    "feature_list=vectorizer.get_feature_names()\n",
    "len(feature_list)"
   ]
  },
  {
   "cell_type": "code",
   "execution_count": 49,
   "metadata": {},
   "outputs": [
    {
     "data": {
      "text/plain": [
       "{'analyzer': u'word',\n",
       " 'binary': False,\n",
       " 'decode_error': u'strict',\n",
       " 'dtype': numpy.int64,\n",
       " 'encoding': u'utf-8',\n",
       " 'input': u'content',\n",
       " 'lowercase': True,\n",
       " 'max_df': 1.0,\n",
       " 'max_features': None,\n",
       " 'min_df': 1,\n",
       " 'ngram_range': (1, 1),\n",
       " 'norm': u'l2',\n",
       " 'preprocessor': None,\n",
       " 'smooth_idf': True,\n",
       " 'stop_words': 'english',\n",
       " 'strip_accents': None,\n",
       " 'sublinear_tf': False,\n",
       " 'token_pattern': u'(?u)\\\\b\\\\w\\\\w+\\\\b',\n",
       " 'tokenizer': None,\n",
       " 'use_idf': True,\n",
       " 'vocabulary': None}"
      ]
     },
     "execution_count": 49,
     "metadata": {},
     "output_type": "execute_result"
    }
   ],
   "source": [
    "vectorizer.get_params(deep=True)"
   ]
  },
  {
   "cell_type": "markdown",
   "metadata": {},
   "source": [
    "## Acccessing TfIdf Features\n",
    "What is word number 34597 in your TfIdf?\n",
    "\n",
    "(Just to be clear--if the question were \"what is word number 100,\" we would be looking for the word corresponding to vocab_list[100]. Zero-indexed arrays are so confusing to talk about sometimes.)"
   ]
  },
  {
   "cell_type": "code",
   "execution_count": 52,
   "metadata": {},
   "outputs": [
    {
     "data": {
      "text/plain": [
       "u'stephaniethank'"
      ]
     },
     "execution_count": 52,
     "metadata": {},
     "output_type": "execute_result"
    }
   ],
   "source": [
    "feature_list[34597]"
   ]
  },
  {
   "cell_type": "code",
   "execution_count": null,
   "metadata": {
    "collapsed": true
   },
   "outputs": [],
   "source": []
  }
 ],
 "metadata": {
  "kernelspec": {
   "display_name": "Python 2",
   "language": "python",
   "name": "python2"
  },
  "language_info": {
   "codemirror_mode": {
    "name": "ipython",
    "version": 2
   },
   "file_extension": ".py",
   "mimetype": "text/x-python",
   "name": "python",
   "nbconvert_exporter": "python",
   "pygments_lexer": "ipython2",
   "version": "2.7.13"
  }
 },
 "nbformat": 4,
 "nbformat_minor": 2
}
